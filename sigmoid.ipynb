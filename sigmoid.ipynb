{
 "cells": [
  {
   "cell_type": "code",
   "execution_count": 18,
   "metadata": {
    "scrolled": true
   },
   "outputs": [
    {
     "data": {
      "image/png": "[encoded data removed]",
      "text/plain": [
       "<Figure size 432x288 with 1 Axes>"
      ]
     },
     "metadata": {
      "needs_background": "light"
     },
     "output_type": "display_data"
    }
   ],
   "source": [
    "import math\n",
    "import matplotlib.pyplot as plt\n",
    "import numpy as np\n",
    "\n",
    "\n",
    "def sigmoid(x):\n",
    "    a = []\n",
    "    for item in x:\n",
    "        val = 1/(1+math.exp(-item))\n",
    "        a.append(val)\n",
    "        #print(f\"{item} = {val}\" )\n",
    "    return a\n",
    "\n",
    "\n",
    "\n",
    "x = np.arange(-10., 20., 0.2)\n",
    "x\n",
    "sig = sigmoid(x)\n",
    "plt.plot(x,sig)\n",
    "\n",
    "ax = plt.gca()\n",
    "#ax.set_facecolor('#12161d')\n",
    "#ax.tick_params(axis='x', colors='#a3fc04')\n",
    "#ax.tick_params(axis='y', colors='#a3fc04')\n",
    "\n",
    "plt.show()"
   ]
  },
  {
   "cell_type": "code",
   "execution_count": 11,
   "metadata": {},
   "outputs": [
    {
     "name": "stdout",
     "output_type": "stream",
     "text": [
      "-10 = 4.5397868702434395e-05\n",
      "-9 = 0.00012339457598623172\n",
      "-8 = 0.0003353501304664781\n",
      "-7 = 0.0009110511944006454\n",
      "-6 = 0.0024726231566347743\n",
      "-5 = 0.0066928509242848554\n",
      "-4 = 0.01798620996209156\n",
      "-3 = 0.04742587317756678\n",
      "-2 = 0.11920292202211755\n",
      "-1 = 0.2689414213699951\n",
      "0 = 0.5\n",
      "1 = 0.7310585786300049\n",
      "2 = 0.8807970779778823\n",
      "3 = 0.9525741268224334\n",
      "4 = 0.9820137900379085\n",
      "5 = 0.9933071490757153\n",
      "6 = 0.9975273768433653\n",
      "7 = 0.9990889488055994\n",
      "8 = 0.9996646498695336\n",
      "9 = 0.9998766054240137\n",
      "10 = 0.9999546021312976\n",
      "11 = 0.999983298578152\n",
      "12 = 0.9999938558253978\n",
      "13 = 0.999997739675702\n",
      "14 = 0.9999991684719722\n",
      "15 = 0.999999694097773\n",
      "16 = 0.9999998874648379\n",
      "17 = 0.9999999586006244\n",
      "18 = 0.9999999847700205\n",
      "19 = 0.9999999943972036\n"
     ]
    }
   ],
   "source": [
    "import math\n",
    "for x in range(-10,20, 1):\n",
    "    print(f\"{x} = {(1/(1+math.exp(-x)))}\")\n"
   ]
  },
  {
   "cell_type": "code",
   "execution_count": 17,
   "metadata": {},
   "outputs": [
    {
     "data": {
      "text/plain": [
       "1.0"
      ]
     },
     "execution_count": 17,
     "metadata": {},
     "output_type": "execute_result"
    }
   ],
   "source": [
    "import math\n",
    "activation_level = 1000\n",
    "(1/(1+math.exp(-activation_level)))"
   ]
  },
  {
   "cell_type": "code",
   "execution_count": null,
   "metadata": {},
   "outputs": [],
   "source": []
  },
  {
   "cell_type": "code",
   "execution_count": null,
   "metadata": {},
   "outputs": [],
   "source": []
  }
 ],
 "metadata": {
  "kernelspec": {
   "display_name": "Python 3",
   "language": "python",
   "name": "python3"
  },
  "language_info": {
   "codemirror_mode": {
    "name": "ipython",
    "version": 3
   },
   "file_extension": ".py",
   "mimetype": "text/x-python",
   "name": "python",
   "nbconvert_exporter": "python",
   "pygments_lexer": "ipython3",
   "version": "3.7.4"
  }
 },
 "nbformat": 4,
 "nbformat_minor": 2
}
